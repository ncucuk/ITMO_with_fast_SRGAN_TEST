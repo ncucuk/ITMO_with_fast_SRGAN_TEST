{
 "cells": [
  {
   "cell_type": "markdown",
   "metadata": {},
   "source": [
    "# Jupyter Notebook\n",
    "The Jupyter Notebook is an open-source web application that allows you to create and share documents that contain live code, equations, visualizations and narrative text."
   ]
  },
  {
   "cell_type": "markdown",
   "metadata": {},
   "source": [
    "# Import Libraries"
   ]
  },
  {
   "cell_type": "code",
   "execution_count": 1,
   "metadata": {
    "ExecuteTime": {
     "end_time": "2020-05-29T21:01:09.012977Z",
     "start_time": "2020-05-29T21:01:08.242197Z"
    }
   },
   "outputs": [],
   "source": [
    "from argparse import ArgumentParser\n",
    "from tensorflow import keras\n",
    "import numpy as np\n",
    "import cv2\n",
    "import os"
   ]
  },
  {
   "cell_type": "markdown",
   "metadata": {},
   "source": [
    "# Define image and output path\n",
    "While in the original code, the image and output path are pasted to the code using args, here we directly define them.\n",
    "\n",
    "You don't have to change this part if you're running the original code instead of this jupyter notebook."
   ]
  },
  {
   "cell_type": "code",
   "execution_count": 2,
   "metadata": {
    "ExecuteTime": {
     "end_time": "2020-05-29T21:01:09.016407Z",
     "start_time": "2020-05-29T21:01:09.014730Z"
    }
   },
   "outputs": [],
   "source": [
    "# Original\n",
    "# parser = ArgumentParser()\n",
    "# parser.add_argument('--image_dir', type=str, help='Directory where images are kept.')\n",
    "# parser.add_argument('--output_dir', type=str, help='Directory where to output high res images.')"
   ]
  },
  {
   "cell_type": "code",
   "execution_count": 3,
   "metadata": {
    "ExecuteTime": {
     "end_time": "2020-05-29T21:01:09.020583Z",
     "start_time": "2020-05-29T21:01:09.017479Z"
    }
   },
   "outputs": [
    {
     "name": "stdout",
     "output_type": "stream",
     "text": [
      "['/home/yixiaowang/repo/Fast-SRGAN/images/Balloon_HDR_EXR_PQ_000000010.exr']\n"
     ]
    }
   ],
   "source": [
    "# Get all image paths\n",
    "image_paths = [os.path.join(\"/home/yixiaowang/repo/Fast-SRGAN/images\", i) for i in os.listdir(\"images\")]\n",
    "print(image_paths)\n",
    "output_dir = \"/home/yixiaowang/repo/Fast-SRGAN/output\""
   ]
  },
  {
   "cell_type": "markdown",
   "metadata": {},
   "source": [
    "# Load pre-trained model as the original code\n",
    "The same as the original code.\n",
    "\n",
    "You don't have to change these either."
   ]
  },
  {
   "cell_type": "code",
   "execution_count": 4,
   "metadata": {
    "ExecuteTime": {
     "end_time": "2020-05-29T21:01:09.954167Z",
     "start_time": "2020-05-29T21:01:09.021513Z"
    }
   },
   "outputs": [
    {
     "name": "stdout",
     "output_type": "stream",
     "text": [
      "WARNING:tensorflow:No training configuration found in save file: the model was *not* compiled. Compile it manually.\n"
     ]
    }
   ],
   "source": [
    "# Change model input shape to accept all size inputs\n",
    "model = keras.models.load_model('models/generator.h5')\n",
    "inputs = keras.Input((None, None, 3))\n",
    "output = model(inputs)\n",
    "model = keras.models.Model(inputs, output)"
   ]
  },
  {
   "cell_type": "markdown",
   "metadata": {},
   "source": [
    "# Loop over all images and upscale them\n",
    "1. Read .EXR files with args \"cv2.IMREAD_ANYCOLOR | cv2.IMREAD_ANYDEPTH\" to preserve the color channel order and the precision of float16/float32.\n",
    "2. Ignore the BGR2RGB and RGB2BGR steps since the original color channel order has been preserved.\n",
    "3. Since the .EXR files are all PQ-ed, which means the pixel values are already between 0 and 1. Forget about the rescaling part with 255.0.\n",
    "4. The output SR has a value range between -1 and 1, and we have to normalize it between 0 and 1. So, sr=(sr+1)/2."
   ]
  },
  {
   "cell_type": "code",
   "execution_count": 5,
   "metadata": {
    "ExecuteTime": {
     "end_time": "2020-05-29T21:01:43.114634Z",
     "start_time": "2020-05-29T21:01:09.955022Z"
    }
   },
   "outputs": [
    {
     "name": "stdout",
     "output_type": "stream",
     "text": [
      "Low resolution is  (1080, 1920, 3)\n",
      "Upscaled resolution is  (4320, 7680, 3)\n"
     ]
    }
   ],
   "source": [
    "for image_path in image_paths:\n",
    "        # Read image\n",
    "        #low_res = cv2.imread(image_path, 1)\n",
    "        low_res = cv2.imread(image_path, cv2.IMREAD_ANYCOLOR | cv2.IMREAD_ANYDEPTH)\n",
    "        print(\"Low resolution is \", low_res.shape)\n",
    "\n",
    "        # Convert to RGB (opencv uses BGR as default)\n",
    "        #low_res = cv2.cvtColor(low_res, cv2.COLOR_BGR2RGB)\n",
    "\n",
    "        # Rescale to 0-1.\n",
    "        #low_res = low_res / 255.0\n",
    "\n",
    "        # Get super resolution image\n",
    "        sr = model.predict(np.expand_dims(low_res, axis=0))[0]\n",
    "\n",
    "        # Rescale values in range 0-255\n",
    "        #sr = ((sr + 1) / 2.) * 255\n",
    "        sr = (sr + 1)/2\n",
    "        print(\"Upscaled resolution is \", sr.shape)\n",
    "\n",
    "        # Convert back to BGR for opencv\n",
    "        #sr = cv2.cvtColor(sr, cv2.COLOR_RGB2BGR)\n",
    "        \n",
    "        # Save the results:\n",
    "        cv2.imwrite(os.path.join(output_dir, os.path.basename(image_path)), sr)"
   ]
  }
 ],
 "metadata": {
  "kernelspec": {
   "display_name": "Python [conda env:fastsrgan]",
   "language": "python",
   "name": "conda-env-fastsrgan-py"
  },
  "language_info": {
   "codemirror_mode": {
    "name": "ipython",
    "version": 3
   },
   "file_extension": ".py",
   "mimetype": "text/x-python",
   "name": "python",
   "nbconvert_exporter": "python",
   "pygments_lexer": "ipython3",
   "version": "3.7.7"
  }
 },
 "nbformat": 4,
 "nbformat_minor": 2
}
